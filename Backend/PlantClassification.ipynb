{
 "cells": [
  {
   "cell_type": "code",
   "execution_count": 1,
   "metadata": {},
   "outputs": [],
   "source": [
    "import os\n",
    "\n",
    "import pandas as pd\n",
    "import torch\n",
    "import torch.nn as nn\n",
    "from torch.nn import functional as F\n",
    "from torchvision import transforms \n",
    "from sklearn import metrics, model_selection, preprocessing\n",
    "import torch\n",
    "from torchvision import datasets\n",
    "from torch.utils.data import DataLoader, Dataset \n",
    "\n",
    "from Model import *\n",
    "from callbacks import EarlyStopping\n",
    "from efficientnet_pytorch import EfficientNet\n",
    "from utils import *\n",
    "\n",
    "INPUT_PATH = \"images/\"\n",
    "TRAIN_PATH = \"images/train/\"\n",
    "VALID_PATH = \"images/valid/\"\n",
    "MODEL_PATH = \"models/\"\n",
    "MODEL_NAME = \"EfficientNet_model_Changed_\"\n",
    "TRAIN_BATCH_SIZE = 32\n",
    "VALID_BATCH_SIZE = 32\n",
    "EPOCHS = 20\n",
    "IMAGE_SIZE = 256"
   ]
  },
  {
   "cell_type": "code",
   "execution_count": 2,
   "metadata": {},
   "outputs": [],
   "source": [
    "class LeafModel(Model):\n",
    "    def __init__(self, num_classes, init=nn.init.kaiming_normal_):\n",
    "        super().__init__()\n",
    "\n",
    "        self.effnet = EfficientNet.from_pretrained(\"efficientnet-b3\")\n",
    "        self.head = create_head(1536, num_classes)\n",
    "\n",
    "    def monitor_metrics(self, outputs, targets):\n",
    "        if targets is None:\n",
    "            return {}\n",
    "        outputs = torch.argmax(outputs, dim=1).cpu().detach().numpy()\n",
    "        targets = targets.cpu().detach().numpy()\n",
    "        accuracy = metrics.accuracy_score(targets, outputs)\n",
    "        return {\"accuracy\": accuracy}\n",
    "\n",
    "    def fetch_optimizer(self):\n",
    "        opt = torch.optim.Adam(self.parameters(), lr=3e-4)\n",
    "        return opt\n",
    "\n",
    "    def fetch_scheduler(self):\n",
    "        sch = torch.optim.lr_scheduler.CosineAnnealingWarmRestarts(\n",
    "            self.optimizer, T_0=10, T_mult=1, eta_min=1e-6, last_epoch=-1\n",
    "        )\n",
    "        return sch\n",
    "\n",
    "    def forward(self, image, targets=None):\n",
    "        batch_size, _, _, _ = image.shape\n",
    "\n",
    "        x = self.effnet.extract_features(image)\n",
    "        outputs = self.head(x)\n",
    "\n",
    "        if targets is not None:\n",
    "            loss = nn.CrossEntropyLoss()(outputs, targets)\n",
    "            metrics = self.monitor_metrics(outputs, targets)\n",
    "            return outputs, loss, metrics\n",
    "        return outputs, None, None"
   ]
  },
  {
   "cell_type": "code",
   "execution_count": 3,
   "metadata": {},
   "outputs": [],
   "source": [
    "train_aug = transforms.Compose([transforms.Resize((IMAGE_SIZE,IMAGE_SIZE)),\n",
    "                                transforms.RandomHorizontalFlip(),\n",
    "                                transforms.RandomVerticalFlip(),\n",
    "                                transforms.RandomRotation((-20, 20)),\n",
    "                                transforms.RandomAffine(degrees=5, translate=(0.10, 0.15)),\n",
    "                                transforms.ToTensor(),\n",
    "                                transforms.Normalize([0.485, 0.456, 0.406], [0.229, 0.224, 0.225]),\n",
    "                                transforms.RandomErasing(p=0.4)\n",
    "                                ])\n",
    "valid_aug = transforms.Compose([transforms.Resize((IMAGE_SIZE,IMAGE_SIZE)),\n",
    "                                transforms.RandomHorizontalFlip(),\n",
    "                                transforms.RandomVerticalFlip(),\n",
    "                                transforms.ToTensor(),\n",
    "                                transforms.Normalize([0.485, 0.456, 0.406], [0.229, 0.224, 0.225])\n",
    "                                ])"
   ]
  },
  {
   "cell_type": "code",
   "execution_count": 4,
   "metadata": {},
   "outputs": [],
   "source": [
    "train_dataset = datasets.ImageFolder(\"images/train/\", transform=train_aug)\n",
    "valid_dataset = datasets.ImageFolder(\"images/valid/\", transform=valid_aug)"
   ]
  },
  {
   "cell_type": "code",
   "execution_count": 5,
   "metadata": {},
   "outputs": [
    {
     "data": {
      "text/plain": [
       "['Apple___Apple_scab',\n",
       " 'Apple___Black_rot',\n",
       " 'Apple___Cedar_apple_rust',\n",
       " 'Apple___healthy',\n",
       " 'Cherry_(including_sour)___Powdery_mildew',\n",
       " 'Cherry_(including_sour)___healthy',\n",
       " 'Corn_(maize)___Cercospora_leaf_spot Gray_leaf_spot',\n",
       " 'Corn_(maize)___Common_rust_',\n",
       " 'Corn_(maize)___Northern_Leaf_Blight',\n",
       " 'Corn_(maize)___healthy',\n",
       " 'Grape___Black_rot',\n",
       " 'Grape___Esca_(Black_Measles)',\n",
       " 'Grape___Leaf_blight_(Isariopsis_Leaf_Spot)',\n",
       " 'Grape___healthy',\n",
       " 'Peach___Bacterial_spot',\n",
       " 'Peach___healthy',\n",
       " 'Pepper_bell___Bacterial_spot',\n",
       " 'Pepper_bell___healthy',\n",
       " 'Potato___Early_blight',\n",
       " 'Potato___Late_blight',\n",
       " 'Potato___healthy',\n",
       " 'Strawberry___Leaf_scorch',\n",
       " 'Strawberry___healthy',\n",
       " 'Tomato___Bacterial_spot',\n",
       " 'Tomato___Early_blight',\n",
       " 'Tomato___Late_blight',\n",
       " 'Tomato___Leaf_Mold',\n",
       " 'Tomato___Septoria_leaf_spot',\n",
       " 'Tomato___Spider_mites Two-spotted_spider_mite',\n",
       " 'Tomato___Target_Spot',\n",
       " 'Tomato___Tomato_Yellow_Leaf_Curl_Virus',\n",
       " 'Tomato___Tomato_mosaic_virus',\n",
       " 'Tomato___healthy']"
      ]
     },
     "execution_count": 5,
     "metadata": {},
     "output_type": "execute_result"
    }
   ],
   "source": [
    "train_dataset.classes"
   ]
  },
  {
   "cell_type": "code",
   "execution_count": 6,
   "metadata": {},
   "outputs": [
    {
     "data": {
      "text/plain": [
       "0"
      ]
     },
     "execution_count": 6,
     "metadata": {},
     "output_type": "execute_result"
    }
   ],
   "source": [
    " torch.cuda.current_device()"
   ]
  },
  {
   "cell_type": "code",
   "execution_count": 7,
   "metadata": {},
   "outputs": [
    {
     "data": {
      "text/plain": [
       "'GeForce RTX 3070'"
      ]
     },
     "execution_count": 7,
     "metadata": {},
     "output_type": "execute_result"
    }
   ],
   "source": [
    "torch.cuda.get_device_name(0)"
   ]
  },
  {
   "cell_type": "code",
   "execution_count": 8,
   "metadata": {},
   "outputs": [
    {
     "name": "stdout",
     "output_type": "stream",
     "text": [
      "Loaded pretrained weights for efficientnet-b3\n"
     ]
    }
   ],
   "source": [
    "model = LeafModel(num_classes=len(train_dataset.classes))"
   ]
  },
  {
   "cell_type": "code",
   "execution_count": 10,
   "metadata": {},
   "outputs": [],
   "source": [
    "es = EarlyStopping(\n",
    "        monitor=\"valid_loss\",\n",
    "        model_path=os.path.join(MODEL_PATH, MODEL_NAME + \"_early.bin\"),\n",
    "        patience=3,\n",
    "        mode=\"min\")"
   ]
  },
  {
   "cell_type": "code",
   "execution_count": 11,
   "metadata": {},
   "outputs": [
    {
     "name": "stderr",
     "output_type": "stream",
     "text": [
      "100%|█████████████████████████████████████| 1905/1905 [07:51<00:00,  4.04it/s, accuracy=0.882, loss=0.416, stage=Train]\n",
      "100%|███████████████████████████████████████| 476/476 [00:35<00:00, 13.45it/s, accuracy=0.98, loss=0.0649, stage=Valid]\n"
     ]
    },
    {
     "name": "stdout",
     "output_type": "stream",
     "text": [
      "Validation score improved (inf --> 0.06492789004647528). Saving model!\n"
     ]
    },
    {
     "name": "stderr",
     "output_type": "stream",
     "text": [
      "100%|█████████████████████████████████████| 1905/1905 [07:44<00:00,  4.10it/s, accuracy=0.97, loss=0.0971, stage=Train]\n",
      "100%|██████████████████████████████████████| 476/476 [00:36<00:00, 12.89it/s, accuracy=0.987, loss=0.0428, stage=Valid]\n"
     ]
    },
    {
     "name": "stdout",
     "output_type": "stream",
     "text": [
      "Validation score improved (0.06492789004647528 --> 0.04278222206799519). Saving model!\n"
     ]
    },
    {
     "name": "stderr",
     "output_type": "stream",
     "text": [
      "100%|████████████████████████████████████| 1905/1905 [07:49<00:00,  4.06it/s, accuracy=0.975, loss=0.0776, stage=Train]\n",
      "100%|███████████████████████████████████████| 476/476 [00:36<00:00, 13.03it/s, accuracy=0.99, loss=0.0333, stage=Valid]\n"
     ]
    },
    {
     "name": "stdout",
     "output_type": "stream",
     "text": [
      "Validation score improved (0.04278222206799519 --> 0.03327983659180174). Saving model!\n"
     ]
    },
    {
     "name": "stderr",
     "output_type": "stream",
     "text": [
      "100%|████████████████████████████████████| 1905/1905 [07:49<00:00,  4.06it/s, accuracy=0.984, loss=0.0518, stage=Train]\n",
      "100%|████████████████████████████████████████| 476/476 [00:35<00:00, 13.22it/s, accuracy=0.99, loss=0.031, stage=Valid]\n"
     ]
    },
    {
     "name": "stdout",
     "output_type": "stream",
     "text": [
      "Validation score improved (0.03327983659180174 --> 0.031012152878440967). Saving model!\n"
     ]
    },
    {
     "name": "stderr",
     "output_type": "stream",
     "text": [
      "100%|████████████████████████████████████| 1905/1905 [07:46<00:00,  4.09it/s, accuracy=0.986, loss=0.0465, stage=Train]\n",
      "100%|██████████████████████████████████████| 476/476 [00:36<00:00, 13.21it/s, accuracy=0.993, loss=0.0238, stage=Valid]\n"
     ]
    },
    {
     "name": "stdout",
     "output_type": "stream",
     "text": [
      "Validation score improved (0.031012152878440967 --> 0.023779844050050424). Saving model!\n"
     ]
    },
    {
     "name": "stderr",
     "output_type": "stream",
     "text": [
      "100%|████████████████████████████████████| 1905/1905 [07:45<00:00,  4.09it/s, accuracy=0.985, loss=0.0481, stage=Train]\n",
      "100%|███████████████████████████████████████| 476/476 [00:36<00:00, 13.20it/s, accuracy=0.992, loss=0.034, stage=Valid]\n",
      "  0%|                                                                                         | 0/1905 [00:00<?, ?it/s]"
     ]
    },
    {
     "name": "stdout",
     "output_type": "stream",
     "text": [
      "EarlyStopping counter: 1 out of 3\n"
     ]
    },
    {
     "name": "stderr",
     "output_type": "stream",
     "text": [
      "100%|█████████████████████████████████████| 1905/1905 [07:45<00:00,  4.09it/s, accuracy=0.986, loss=0.044, stage=Train]\n",
      "100%|██████████████████████████████████████| 476/476 [00:36<00:00, 13.22it/s, accuracy=0.995, loss=0.0164, stage=Valid]\n"
     ]
    },
    {
     "name": "stdout",
     "output_type": "stream",
     "text": [
      "Validation score improved (0.023779844050050424 --> 0.01642550785172727). Saving model!\n"
     ]
    },
    {
     "name": "stderr",
     "output_type": "stream",
     "text": [
      "100%|█████████████████████████████████████| 1905/1905 [07:46<00:00,  4.09it/s, accuracy=0.99, loss=0.0317, stage=Train]\n",
      "100%|███████████████████████████████████████| 476/476 [00:36<00:00, 13.13it/s, accuracy=0.99, loss=0.0409, stage=Valid]\n",
      "  0%|                                                                                         | 0/1905 [00:00<?, ?it/s]"
     ]
    },
    {
     "name": "stdout",
     "output_type": "stream",
     "text": [
      "EarlyStopping counter: 1 out of 3\n"
     ]
    },
    {
     "name": "stderr",
     "output_type": "stream",
     "text": [
      "100%|████████████████████████████████████| 1905/1905 [07:46<00:00,  4.09it/s, accuracy=0.988, loss=0.0402, stage=Train]\n",
      "100%|███████████████████████████████████████| 476/476 [00:36<00:00, 13.20it/s, accuracy=0.996, loss=0.014, stage=Valid]\n"
     ]
    },
    {
     "name": "stdout",
     "output_type": "stream",
     "text": [
      "Validation score improved (0.01642550785172727 --> 0.014034570244218076). Saving model!\n"
     ]
    },
    {
     "name": "stderr",
     "output_type": "stream",
     "text": [
      "100%|█████████████████████████████████████| 1905/1905 [07:53<00:00,  4.02it/s, accuracy=0.989, loss=0.037, stage=Train]\n",
      "100%|██████████████████████████████████████| 476/476 [00:36<00:00, 13.18it/s, accuracy=0.995, loss=0.0141, stage=Valid]\n",
      "  0%|                                                                                         | 0/1905 [00:00<?, ?it/s]"
     ]
    },
    {
     "name": "stdout",
     "output_type": "stream",
     "text": [
      "EarlyStopping counter: 1 out of 3\n"
     ]
    },
    {
     "name": "stderr",
     "output_type": "stream",
     "text": [
      "100%|████████████████████████████████████| 1905/1905 [07:52<00:00,  4.03it/s, accuracy=0.988, loss=0.0365, stage=Train]\n",
      "100%|██████████████████████████████████████| 476/476 [00:35<00:00, 13.26it/s, accuracy=0.996, loss=0.0112, stage=Valid]\n"
     ]
    },
    {
     "name": "stdout",
     "output_type": "stream",
     "text": [
      "Validation score improved (0.014034570244218076 --> 0.01122772588627208). Saving model!\n"
     ]
    },
    {
     "name": "stderr",
     "output_type": "stream",
     "text": [
      "100%|█████████████████████████████████████| 1905/1905 [07:48<00:00,  4.07it/s, accuracy=0.99, loss=0.0312, stage=Train]\n",
      "100%|██████████████████████████████████████| 476/476 [00:35<00:00, 13.26it/s, accuracy=0.996, loss=0.0139, stage=Valid]\n",
      "  0%|                                                                                         | 0/1905 [00:00<?, ?it/s]"
     ]
    },
    {
     "name": "stdout",
     "output_type": "stream",
     "text": [
      "EarlyStopping counter: 1 out of 3\n"
     ]
    },
    {
     "name": "stderr",
     "output_type": "stream",
     "text": [
      "100%|██████████████████████████████████████| 1905/1905 [07:49<00:00,  4.06it/s, accuracy=0.99, loss=0.033, stage=Train]\n",
      "100%|██████████████████████████████████████| 476/476 [00:35<00:00, 13.26it/s, accuracy=0.997, loss=0.0105, stage=Valid]\n",
      "  0%|                                                                                         | 0/1905 [00:00<?, ?it/s]"
     ]
    },
    {
     "name": "stdout",
     "output_type": "stream",
     "text": [
      "EarlyStopping counter: 2 out of 3\n"
     ]
    },
    {
     "name": "stderr",
     "output_type": "stream",
     "text": [
      "100%|████████████████████████████████████| 1905/1905 [07:49<00:00,  4.06it/s, accuracy=0.994, loss=0.0196, stage=Train]\n",
      "100%|█████████████████████████████████████| 476/476 [00:35<00:00, 13.23it/s, accuracy=0.998, loss=0.00645, stage=Valid]\n"
     ]
    },
    {
     "name": "stdout",
     "output_type": "stream",
     "text": [
      "Validation score improved (0.01122772588627208 --> 0.0064530765620775). Saving model!\n"
     ]
    },
    {
     "name": "stderr",
     "output_type": "stream",
     "text": [
      "100%|████████████████████████████████████| 1905/1905 [07:51<00:00,  4.04it/s, accuracy=0.993, loss=0.0233, stage=Train]\n",
      "100%|█████████████████████████████████████| 476/476 [00:36<00:00, 13.18it/s, accuracy=0.998, loss=0.00822, stage=Valid]\n",
      "  0%|                                                                                         | 0/1905 [00:00<?, ?it/s]"
     ]
    },
    {
     "name": "stdout",
     "output_type": "stream",
     "text": [
      "EarlyStopping counter: 1 out of 3\n"
     ]
    },
    {
     "name": "stderr",
     "output_type": "stream",
     "text": [
      "100%|████████████████████████████████████| 1905/1905 [07:48<00:00,  4.06it/s, accuracy=0.994, loss=0.0206, stage=Train]\n",
      "100%|█████████████████████████████████████| 476/476 [00:36<00:00, 13.21it/s, accuracy=0.998, loss=0.00608, stage=Valid]\n",
      "  0%|                                                                                         | 0/1905 [00:00<?, ?it/s]"
     ]
    },
    {
     "name": "stdout",
     "output_type": "stream",
     "text": [
      "EarlyStopping counter: 2 out of 3\n"
     ]
    },
    {
     "name": "stderr",
     "output_type": "stream",
     "text": [
      "100%|██████████████████████████████████████| 1905/1905 [07:49<00:00,  4.06it/s, accuracy=0.99, loss=0.031, stage=Train]\n",
      "100%|█████████████████████████████████████| 476/476 [00:36<00:00, 13.21it/s, accuracy=0.998, loss=0.00798, stage=Valid]"
     ]
    },
    {
     "name": "stdout",
     "output_type": "stream",
     "text": [
      "EarlyStopping counter: 3 out of 3\n"
     ]
    },
    {
     "name": "stderr",
     "output_type": "stream",
     "text": [
      "\n"
     ]
    }
   ],
   "source": [
    "model.fit(\n",
    "        train_dataset,\n",
    "        valid_dataset=valid_dataset,\n",
    "        train_bs=TRAIN_BATCH_SIZE,\n",
    "        valid_bs=VALID_BATCH_SIZE,\n",
    "        device=\"cuda\",\n",
    "        epochs=EPOCHS,\n",
    "        fp16=True,\n",
    "        callbacks=[es])"
   ]
  },
  {
   "cell_type": "code",
   "execution_count": null,
   "metadata": {},
   "outputs": [],
   "source": []
  },
  {
   "cell_type": "code",
   "execution_count": 9,
   "metadata": {},
   "outputs": [],
   "source": [
    "model.load('models/EfficientNet_model_Changed__early.bin')"
   ]
  },
  {
   "cell_type": "code",
   "execution_count": 10,
   "metadata": {},
   "outputs": [],
   "source": [
    "model.save_model(os.path.join(MODEL_PATH, MODEL_NAME + \"Final_onlyModel.pth\"))"
   ]
  },
  {
   "cell_type": "code",
   "execution_count": null,
   "metadata": {},
   "outputs": [],
   "source": []
  },
  {
   "cell_type": "code",
   "execution_count": null,
   "metadata": {},
   "outputs": [],
   "source": []
  },
  {
   "cell_type": "code",
   "execution_count": null,
   "metadata": {},
   "outputs": [],
   "source": []
  },
  {
   "cell_type": "code",
   "execution_count": 10,
   "metadata": {},
   "outputs": [
    {
     "name": "stdout",
     "output_type": "stream",
     "text": [
      "> \u001b[1;32md:\\gautham\\plantdisease\\callbacks\\early_stopping.py\u001b[0m(30)\u001b[0;36mon_epoch_end\u001b[1;34m()\u001b[0m\n",
      "\u001b[1;32m     28 \u001b[1;33m\u001b[1;33m\u001b[0m\u001b[0m\n",
      "\u001b[0m\u001b[1;32m     29 \u001b[1;33m    \u001b[1;32mdef\u001b[0m \u001b[0mon_epoch_end\u001b[0m\u001b[1;33m(\u001b[0m\u001b[0mself\u001b[0m\u001b[1;33m,\u001b[0m \u001b[0mmodel\u001b[0m\u001b[1;33m)\u001b[0m\u001b[1;33m:\u001b[0m\u001b[1;33m\u001b[0m\u001b[1;33m\u001b[0m\u001b[0m\n",
      "\u001b[0m\u001b[1;32m---> 30 \u001b[1;33m        \u001b[0mepoch_score\u001b[0m \u001b[1;33m=\u001b[0m \u001b[0mmodel\u001b[0m\u001b[1;33m.\u001b[0m\u001b[0mmetrics\u001b[0m\u001b[1;33m[\u001b[0m\u001b[0mself\u001b[0m\u001b[1;33m.\u001b[0m\u001b[0mmodel_state\u001b[0m\u001b[1;33m]\u001b[0m\u001b[1;33m[\u001b[0m\u001b[0mself\u001b[0m\u001b[1;33m.\u001b[0m\u001b[0mmonitor_value\u001b[0m\u001b[1;33m]\u001b[0m\u001b[1;33m\u001b[0m\u001b[1;33m\u001b[0m\u001b[0m\n",
      "\u001b[0m\u001b[1;32m     31 \u001b[1;33m        \u001b[1;32mif\u001b[0m \u001b[0mself\u001b[0m\u001b[1;33m.\u001b[0m\u001b[0mmode\u001b[0m \u001b[1;33m==\u001b[0m \u001b[1;34m\"min\"\u001b[0m\u001b[1;33m:\u001b[0m\u001b[1;33m\u001b[0m\u001b[1;33m\u001b[0m\u001b[0m\n",
      "\u001b[0m\u001b[1;32m     32 \u001b[1;33m            \u001b[0mscore\u001b[0m \u001b[1;33m=\u001b[0m \u001b[1;33m-\u001b[0m\u001b[1;36m1.0\u001b[0m \u001b[1;33m*\u001b[0m \u001b[0mepoch_score\u001b[0m\u001b[1;33m\u001b[0m\u001b[1;33m\u001b[0m\u001b[0m\n",
      "\u001b[0m\n"
     ]
    },
    {
     "name": "stdin",
     "output_type": "stream",
     "text": [
      "ipdb>  self.monitor_value\n"
     ]
    },
    {
     "name": "stdout",
     "output_type": "stream",
     "text": [
      "'loss'\n"
     ]
    },
    {
     "name": "stdin",
     "output_type": "stream",
     "text": [
      "ipdb>  model.metrics\n"
     ]
    },
    {
     "name": "stdout",
     "output_type": "stream",
     "text": [
      "{'train': {'accuracy': 0.8697086936731907, 'loss': 0.47133112254610937}, 'valid': {}, 'test': {}}\n"
     ]
    },
    {
     "name": "stdin",
     "output_type": "stream",
     "text": [
      "ipdb>  model.metrics['valid']['loss']\n"
     ]
    },
    {
     "name": "stdout",
     "output_type": "stream",
     "text": [
      "*** KeyError: 'loss'\n"
     ]
    },
    {
     "name": "stdin",
     "output_type": "stream",
     "text": [
      "ipdb>  model.metrics['train']['loss']\n"
     ]
    },
    {
     "name": "stdout",
     "output_type": "stream",
     "text": [
      "0.47133112254610937\n"
     ]
    },
    {
     "name": "stdin",
     "output_type": "stream",
     "text": [
      "ipdb>  n\n"
     ]
    }
   ],
   "source": [
    "%debug"
   ]
  },
  {
   "cell_type": "code",
   "execution_count": 18,
   "metadata": {},
   "outputs": [],
   "source": [
    "train_aug = transforms.Compose([transforms.Resize((IMAGE_SIZE,IMAGE_SIZE)),\n",
    "                                transforms.RandomHorizontalFlip(),\n",
    "                                transforms.RandomVerticalFlip(),\n",
    "                                transforms.RandomRotation((-20, 20)),\n",
    "                                transforms.RandomAffine(degrees=5, translate=(0.10, 0.15)),\n",
    "                                transforms.ToTensor(),\n",
    "                                transforms.Normalize([0.485, 0.456, 0.406], [0.229, 0.224, 0.225]),\n",
    "                                transforms.RandomErasing(p=0.4)\n",
    "                                ])\n",
    "valid_aug = transforms.Compose([transforms.Resize((IMAGE_SIZE, IMAGE_SIZE)),\n",
    "                                transforms.RandomHorizontalFlip(),\n",
    "                                transforms.RandomVerticalFlip(),\n",
    "                                transforms.ToTensor(),\n",
    "                                transforms.Normalize([0.485, 0.456, 0.406], [0.229, 0.224, 0.225])\n",
    "                                ])"
   ]
  },
  {
   "cell_type": "code",
   "execution_count": 19,
   "metadata": {},
   "outputs": [],
   "source": [
    "train_dataset = datasets.ImageFolder(\"images/train/\", transform=train_aug)\n",
    "valid_dataset = datasets.ImageFolder(\"images/valid/\", transform=valid_aug)"
   ]
  },
  {
   "cell_type": "code",
   "execution_count": 20,
   "metadata": {},
   "outputs": [],
   "source": [
    "model.load('models/EfficientNet_model_new_early.bin')"
   ]
  },
  {
   "cell_type": "code",
   "execution_count": null,
   "metadata": {},
   "outputs": [],
   "source": []
  },
  {
   "cell_type": "code",
   "execution_count": 21,
   "metadata": {},
   "outputs": [],
   "source": [
    "es = EarlyStopping(\n",
    "        monitor=\"valid_loss\",\n",
    "        model_path=os.path.join(MODEL_PATH, MODEL_NAME + \"_early2.bin\"),\n",
    "        patience=3,\n",
    "        mode=\"min\")"
   ]
  },
  {
   "cell_type": "code",
   "execution_count": 22,
   "metadata": {},
   "outputs": [
    {
     "name": "stderr",
     "output_type": "stream",
     "text": [
      "100%|█████████████████████████████████████| 4413/4413 [10:38<00:00,  6.92it/s, accuracy=0.946, loss=0.157, stage=Train]\n",
      "100%|██████████████████████████████████████| 1113/1113 [00:50<00:00, 21.86it/s, accuracy=0.96, loss=0.123, stage=Valid]\n"
     ]
    },
    {
     "name": "stdout",
     "output_type": "stream",
     "text": [
      "Validation score improved (inf --> 0.12253258741287673). Saving model!\n"
     ]
    },
    {
     "name": "stderr",
     "output_type": "stream",
     "text": [
      "100%|█████████████████████████████████████| 4413/4413 [10:35<00:00,  6.94it/s, accuracy=0.952, loss=0.139, stage=Train]\n",
      "100%|██████████████████████████████████████| 1113/1113 [00:51<00:00, 21.70it/s, accuracy=0.96, loss=0.121, stage=Valid]\n"
     ]
    },
    {
     "name": "stdout",
     "output_type": "stream",
     "text": [
      "Validation score improved (0.12253258741287673 --> 0.1213094911780491). Saving model!\n"
     ]
    },
    {
     "name": "stderr",
     "output_type": "stream",
     "text": [
      "100%|█████████████████████████████████████| 4413/4413 [10:43<00:00,  6.86it/s, accuracy=0.955, loss=0.131, stage=Train]\n",
      "100%|█████████████████████████████████████| 1113/1113 [00:52<00:00, 21.17it/s, accuracy=0.963, loss=0.116, stage=Valid]\n"
     ]
    },
    {
     "name": "stdout",
     "output_type": "stream",
     "text": [
      "Validation score improved (0.1213094911780491 --> 0.1164056079910899). Saving model!\n"
     ]
    },
    {
     "name": "stderr",
     "output_type": "stream",
     "text": [
      "100%|█████████████████████████████████████| 4413/4413 [10:45<00:00,  6.83it/s, accuracy=0.958, loss=0.122, stage=Train]\n",
      "100%|██████████████████████████████████████| 1113/1113 [00:52<00:00, 21.24it/s, accuracy=0.961, loss=0.12, stage=Valid]\n",
      "  0%|                                                                                         | 0/4413 [00:00<?, ?it/s]"
     ]
    },
    {
     "name": "stdout",
     "output_type": "stream",
     "text": [
      "EarlyStopping counter: 1 out of 3\n"
     ]
    },
    {
     "name": "stderr",
     "output_type": "stream",
     "text": [
      "100%|██████████████████████████████████████| 4413/4413 [10:41<00:00,  6.88it/s, accuracy=0.96, loss=0.117, stage=Train]\n",
      "100%|█████████████████████████████████████| 1113/1113 [00:52<00:00, 21.23it/s, accuracy=0.964, loss=0.109, stage=Valid]\n"
     ]
    },
    {
     "name": "stdout",
     "output_type": "stream",
     "text": [
      "Validation score improved (0.1164056079910899 --> 0.10886944370501696). Saving model!\n"
     ]
    },
    {
     "name": "stderr",
     "output_type": "stream",
     "text": [
      "100%|█████████████████████████████████████| 4413/4413 [10:42<00:00,  6.87it/s, accuracy=0.962, loss=0.112, stage=Train]\n",
      "100%|█████████████████████████████████████| 1113/1113 [00:52<00:00, 21.24it/s, accuracy=0.962, loss=0.116, stage=Valid]\n",
      "  0%|                                                                                         | 0/4413 [00:00<?, ?it/s]"
     ]
    },
    {
     "name": "stdout",
     "output_type": "stream",
     "text": [
      "EarlyStopping counter: 1 out of 3\n"
     ]
    },
    {
     "name": "stderr",
     "output_type": "stream",
     "text": [
      "100%|█████████████████████████████████████| 4413/4413 [10:37<00:00,  6.92it/s, accuracy=0.962, loss=0.108, stage=Train]\n",
      "100%|█████████████████████████████████████| 1113/1113 [00:51<00:00, 21.55it/s, accuracy=0.966, loss=0.105, stage=Valid]\n"
     ]
    },
    {
     "name": "stdout",
     "output_type": "stream",
     "text": [
      "Validation score improved (0.10886944370501696 --> 0.10523195683624766). Saving model!\n"
     ]
    },
    {
     "name": "stderr",
     "output_type": "stream",
     "text": [
      "100%|█████████████████████████████████████| 4413/4413 [10:35<00:00,  6.95it/s, accuracy=0.965, loss=0.101, stage=Train]\n",
      "100%|█████████████████████████████████████| 1113/1113 [00:51<00:00, 21.65it/s, accuracy=0.964, loss=0.109, stage=Valid]\n",
      "  0%|                                                                                         | 0/4413 [00:00<?, ?it/s]"
     ]
    },
    {
     "name": "stdout",
     "output_type": "stream",
     "text": [
      "EarlyStopping counter: 1 out of 3\n"
     ]
    },
    {
     "name": "stderr",
     "output_type": "stream",
     "text": [
      "100%|████████████████████████████████████| 4413/4413 [10:41<00:00,  6.88it/s, accuracy=0.965, loss=0.0997, stage=Train]\n",
      "100%|█████████████████████████████████████| 1113/1113 [00:52<00:00, 21.27it/s, accuracy=0.968, loss=0.102, stage=Valid]\n"
     ]
    },
    {
     "name": "stdout",
     "output_type": "stream",
     "text": [
      "Validation score improved (0.10523195683624766 --> 0.10223702592231723). Saving model!\n"
     ]
    },
    {
     "name": "stderr",
     "output_type": "stream",
     "text": [
      "100%|████████████████████████████████████| 4413/4413 [10:40<00:00,  6.89it/s, accuracy=0.966, loss=0.0985, stage=Train]\n",
      "100%|█████████████████████████████████████| 1113/1113 [00:51<00:00, 21.64it/s, accuracy=0.964, loss=0.118, stage=Valid]\n",
      "  0%|                                                                                         | 0/4413 [00:00<?, ?it/s]"
     ]
    },
    {
     "name": "stdout",
     "output_type": "stream",
     "text": [
      "EarlyStopping counter: 1 out of 3\n"
     ]
    },
    {
     "name": "stderr",
     "output_type": "stream",
     "text": [
      "100%|████████████████████████████████████| 4413/4413 [10:35<00:00,  6.94it/s, accuracy=0.968, loss=0.0927, stage=Train]\n",
      "100%|█████████████████████████████████████| 1113/1113 [00:51<00:00, 21.61it/s, accuracy=0.962, loss=0.137, stage=Valid]\n",
      "  0%|                                                                                         | 0/4413 [00:00<?, ?it/s]"
     ]
    },
    {
     "name": "stdout",
     "output_type": "stream",
     "text": [
      "EarlyStopping counter: 2 out of 3\n"
     ]
    },
    {
     "name": "stderr",
     "output_type": "stream",
     "text": [
      "100%|████████████████████████████████████| 4413/4413 [10:39<00:00,  6.90it/s, accuracy=0.968, loss=0.0908, stage=Train]\n",
      "100%|█████████████████████████████████████| 1113/1113 [00:52<00:00, 21.28it/s, accuracy=0.967, loss=0.107, stage=Valid]"
     ]
    },
    {
     "name": "stdout",
     "output_type": "stream",
     "text": [
      "EarlyStopping counter: 3 out of 3\n"
     ]
    },
    {
     "name": "stderr",
     "output_type": "stream",
     "text": [
      "\n"
     ]
    }
   ],
   "source": [
    "model.fit(\n",
    "        train_dataset,\n",
    "        valid_dataset=valid_dataset,\n",
    "        train_bs=TRAIN_BATCH_SIZE,\n",
    "        valid_bs=VALID_BATCH_SIZE,\n",
    "        device=\"cuda\",\n",
    "        epochs=EPOCHS,\n",
    "        callbacks=[es])"
   ]
  },
  {
   "cell_type": "code",
   "execution_count": 12,
   "metadata": {},
   "outputs": [],
   "source": [
    "model.save_model(os.path.join(MODEL_PATH, MODEL_NAME + \"2_onlyModel.pth\"))"
   ]
  },
  {
   "cell_type": "code",
   "execution_count": 5,
   "metadata": {},
   "outputs": [],
   "source": [
    "model.load('models/EfficientNet_model_early1.bin')"
   ]
  },
  {
   "cell_type": "code",
   "execution_count": 14,
   "metadata": {},
   "outputs": [],
   "source": [
    "model.save_model(os.path.join(MODEL_PATH, MODEL_NAME + \"Final_onlyModel.pth\"))"
   ]
  },
  {
   "cell_type": "code",
   "execution_count": 6,
   "metadata": {},
   "outputs": [],
   "source": [
    "from sklearn.metrics import classification_report, confusion_matrix"
   ]
  },
  {
   "cell_type": "code",
   "execution_count": 7,
   "metadata": {},
   "outputs": [],
   "source": [
    "test_aug = transforms.Compose([transforms.Resize((224,224)),\n",
    "                                transforms.ToTensor(),\n",
    "                                transforms.Normalize([0.485, 0.456, 0.406], [0.229, 0.224, 0.225])\n",
    "                                ])\n",
    "test_dataset = datasets.ImageFolder(\"images/test/\", transform=test_aug)"
   ]
  },
  {
   "cell_type": "code",
   "execution_count": 40,
   "metadata": {},
   "outputs": [],
   "source": [
    "y_pred_gen = model.predict(valid_dataset, device='cuda')"
   ]
  },
  {
   "cell_type": "code",
   "execution_count": 21,
   "metadata": {},
   "outputs": [
    {
     "data": {
      "text/plain": [
       "Dataset ImageFolder\n",
       "    Number of datapoints: 33\n",
       "    Root location: images/test/\n",
       "    StandardTransform\n",
       "Transform: Compose(\n",
       "               Resize(size=(224, 224), interpolation=bilinear)\n",
       "               ToTensor()\n",
       "               Normalize(mean=[0.485, 0.456, 0.406], std=[0.229, 0.224, 0.225])\n",
       "           )"
      ]
     },
     "execution_count": 21,
     "metadata": {},
     "output_type": "execute_result"
    }
   ],
   "source": [
    "test_dataset"
   ]
  },
  {
   "cell_type": "code",
   "execution_count": 60,
   "metadata": {},
   "outputs": [
    {
     "data": {
      "text/plain": [
       "Dataset ImageFolder\n",
       "    Number of datapoints: 17572\n",
       "    Root location: images/valid/\n",
       "    StandardTransform\n",
       "Transform: Compose(\n",
       "               Resize(size=(224, 224), interpolation=bilinear)\n",
       "               RandomHorizontalFlip(p=0.5)\n",
       "               RandomVerticalFlip(p=0.5)\n",
       "               ToTensor()\n",
       "               Normalize(mean=[0.485, 0.456, 0.406], std=[0.229, 0.224, 0.225])\n",
       "           )"
      ]
     },
     "execution_count": 60,
     "metadata": {},
     "output_type": "execute_result"
    }
   ],
   "source": [
    "valid_dataset."
   ]
  },
  {
   "cell_type": "code",
   "execution_count": null,
   "metadata": {},
   "outputs": [],
   "source": [
    "class TestDataset(Dataset):\n",
    "    def __init__(self, path):\n",
    "        self.path = path\n",
    "    \n",
    "    def __len__(self):\n",
    "        return len(path)\n",
    "    \n",
    "    def __getitem__(self, idx):\n",
    "        return sample"
   ]
  },
  {
   "cell_type": "code",
   "execution_count": 41,
   "metadata": {},
   "outputs": [
    {
     "name": "stderr",
     "output_type": "stream",
     "text": [
      "100%|████████████████████████████████████████████████████████████████████████| 3/3 [00:00<00:00, 16.38it/s, stage=Test]\n"
     ]
    }
   ],
   "source": [
    "y_pred = []\n",
    "for data in y_pred_gen:\n",
    "    val = np.argmax(data, axis=1)\n",
    "    y_pred.append(list(val))"
   ]
  },
  {
   "cell_type": "code",
   "execution_count": 42,
   "metadata": {},
   "outputs": [],
   "source": [
    "def flatten(input):\n",
    "    new_list = []\n",
    "    for i in input:\n",
    "        for j in i:\n",
    "            new_list.append(j)\n",
    "    return new_list"
   ]
  },
  {
   "cell_type": "code",
   "execution_count": 46,
   "metadata": {},
   "outputs": [],
   "source": [
    "y_pred = np.array(flatten(y_pred))"
   ]
  },
  {
   "cell_type": "code",
   "execution_count": 48,
   "metadata": {},
   "outputs": [],
   "source": [
    "y_label = []\n",
    "for i in y_pred:\n",
    "    y_label.append(train_dataset.classes[i])"
   ]
  },
  {
   "cell_type": "code",
   "execution_count": 49,
   "metadata": {},
   "outputs": [
    {
     "data": {
      "text/plain": [
       "['Apple___Cedar_apple_rust',\n",
       " 'Apple___Cedar_apple_rust',\n",
       " 'Apple___Cedar_apple_rust',\n",
       " 'Apple___Cedar_apple_rust',\n",
       " 'Apple___Apple_scab',\n",
       " 'Apple___Apple_scab',\n",
       " 'Apple___Apple_scab',\n",
       " 'Corn_(maize)___Common_rust_',\n",
       " 'Corn_(maize)___Common_rust_',\n",
       " 'Corn_(maize)___Common_rust_',\n",
       " 'Potato___Early_blight',\n",
       " 'Potato___Early_blight',\n",
       " 'Potato___Early_blight',\n",
       " 'Potato___Early_blight',\n",
       " 'Potato___Early_blight',\n",
       " 'Potato___healthy',\n",
       " 'Potato___healthy',\n",
       " 'Tomato___Early_blight',\n",
       " 'Tomato___Early_blight',\n",
       " 'Tomato___Early_blight',\n",
       " 'Tomato___Early_blight',\n",
       " 'Tomato___Early_blight',\n",
       " 'Tomato___Early_blight',\n",
       " 'Tomato___healthy',\n",
       " 'Tomato___healthy',\n",
       " 'Tomato___healthy',\n",
       " 'Tomato___healthy',\n",
       " 'Tomato___Tomato_Yellow_Leaf_Curl_Virus',\n",
       " 'Tomato___Tomato_Yellow_Leaf_Curl_Virus',\n",
       " 'Tomato___Tomato_Yellow_Leaf_Curl_Virus',\n",
       " 'Tomato___Tomato_Yellow_Leaf_Curl_Virus',\n",
       " 'Tomato___Tomato_Yellow_Leaf_Curl_Virus',\n",
       " 'Tomato___Tomato_Yellow_Leaf_Curl_Virus']"
      ]
     },
     "execution_count": 49,
     "metadata": {},
     "output_type": "execute_result"
    }
   ],
   "source": [
    "y_label"
   ]
  },
  {
   "cell_type": "code",
   "execution_count": 200,
   "metadata": {},
   "outputs": [],
   "source": [
    "def show_batch(img,labels, batch=6):\n",
    "    fig, ax = plt.subplots(3,3, figsize=(12,10))\n",
    "    k = 0\n",
    "    for i in range(3):\n",
    "        for j in range(3):\n",
    "            ax[i][j].imshow(img[k].permute(1, 2, 0))\n",
    "            ax[i][j].title.set_text(train_data.classes[labels[k]])\n",
    "            ax[i][j].xaxis.set_visible(False)\n",
    "            ax[i][j].yaxis.set_visible(False)\n",
    "            k+=1\n",
    "    fig.tight_layout()"
   ]
  },
  {
   "cell_type": "code",
   "execution_count": null,
   "metadata": {},
   "outputs": [],
   "source": [
    "show_img(img, label)\n",
    "plt.savefig('batch.png', bbox_inches = 'tight');"
   ]
  }
 ],
 "metadata": {
  "kernelspec": {
   "display_name": "Python 3",
   "language": "python",
   "name": "python3"
  },
  "language_info": {
   "codemirror_mode": {
    "name": "ipython",
    "version": 3
   },
   "file_extension": ".py",
   "mimetype": "text/x-python",
   "name": "python",
   "nbconvert_exporter": "python",
   "pygments_lexer": "ipython3",
   "version": "3.8.8"
  }
 },
 "nbformat": 4,
 "nbformat_minor": 4
}
