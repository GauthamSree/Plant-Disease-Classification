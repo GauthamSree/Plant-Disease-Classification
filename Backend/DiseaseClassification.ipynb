{
 "cells": [
  {
   "cell_type": "markdown",
   "metadata": {},
   "source": [
    "## Training the Model"
   ]
  },
  {
   "cell_type": "code",
   "execution_count": 1,
   "metadata": {},
   "outputs": [],
   "source": [
    "import os\n",
    "\n",
    "import pandas as pd\n",
    "import torch\n",
    "import torch.nn as nn\n",
    "from torch.nn import functional as F\n",
    "from torchvision import transforms \n",
    "from sklearn import metrics, model_selection, preprocessing\n",
    "import torch\n",
    "from torchvision import datasets\n",
    "from torch.utils.data import DataLoader, Dataset \n",
    "\n",
    "from Model import *\n",
    "from callbacks import EarlyStopping\n",
    "from efficientnet_pytorch import EfficientNet\n",
    "from utils import *\n",
    "\n",
    "INPUT_PATH = \"images/\"\n",
    "TRAIN_PATH = \"images/train/\"\n",
    "VALID_PATH = \"images/valid/\"\n",
    "MODEL_PATH = \"models/\"\n",
    "MODEL_NAME = \"EfficientNet_model_Changed_\"\n",
    "TRAIN_BATCH_SIZE = 32\n",
    "VALID_BATCH_SIZE = 32\n",
    "EPOCHS = 20\n",
    "IMAGE_SIZE = 256"
   ]
  },
  {
   "cell_type": "code",
   "execution_count": 2,
   "metadata": {},
   "outputs": [],
   "source": [
    "class LeafModel(Model):\n",
    "    def __init__(self, num_classes, init=nn.init.kaiming_normal_):\n",
    "        super().__init__()\n",
    "\n",
    "        self.effnet = EfficientNet.from_pretrained(\"efficientnet-b3\")\n",
    "        self.head = create_head(1536, num_classes)\n",
    "\n",
    "    def monitor_metrics(self, outputs, targets):\n",
    "        if targets is None:\n",
    "            return {}\n",
    "        outputs = torch.argmax(outputs, dim=1).cpu().detach().numpy()\n",
    "        targets = targets.cpu().detach().numpy()\n",
    "        accuracy = metrics.accuracy_score(targets, outputs)\n",
    "        return {\"accuracy\": accuracy}\n",
    "\n",
    "    def fetch_optimizer(self):\n",
    "        opt = torch.optim.Adam(self.parameters(), lr=3e-4)\n",
    "        return opt\n",
    "\n",
    "    def fetch_scheduler(self):\n",
    "        sch = torch.optim.lr_scheduler.CosineAnnealingWarmRestarts(\n",
    "            self.optimizer, T_0=10, T_mult=1, eta_min=1e-6, last_epoch=-1\n",
    "        )\n",
    "        return sch\n",
    "\n",
    "    def forward(self, image, targets=None):\n",
    "        batch_size, _, _, _ = image.shape\n",
    "\n",
    "        x = self.effnet.extract_features(image)\n",
    "        outputs = self.head(x)\n",
    "\n",
    "        if targets is not None:\n",
    "            loss = nn.CrossEntropyLoss()(outputs, targets)\n",
    "            metrics = self.monitor_metrics(outputs, targets)\n",
    "            return outputs, loss, metrics\n",
    "        return outputs, None, None"
   ]
  },
  {
   "cell_type": "code",
   "execution_count": 52,
   "metadata": {},
   "outputs": [],
   "source": [
    "train_aug = transforms.Compose([transforms.Resize((IMAGE_SIZE,IMAGE_SIZE)),\n",
    "                                transforms.RandomHorizontalFlip(),\n",
    "                                transforms.RandomVerticalFlip(),\n",
    "                                transforms.RandomRotation((-20, 20)),\n",
    "                                transforms.RandomAffine(degrees=5, translate=(0.10, 0.15)),\n",
    "                                transforms.ToTensor(),\n",
    "                                transforms.Normalize([0.485, 0.456, 0.406], [0.229, 0.224, 0.225]),\n",
    "                                transforms.RandomErasing(p=0.4)\n",
    "                                ])\n",
    "valid_aug = transforms.Compose([transforms.Resize((IMAGE_SIZE,IMAGE_SIZE)),\n",
    "                                transforms.RandomHorizontalFlip(),\n",
    "                                transforms.RandomVerticalFlip(),\n",
    "                                transforms.ToTensor(),\n",
    "                                transforms.Normalize([0.485, 0.456, 0.406], [0.229, 0.224, 0.225])\n",
    "                                ])"
   ]
  },
  {
   "cell_type": "code",
   "execution_count": 53,
   "metadata": {},
   "outputs": [],
   "source": [
    "train_dataset = datasets.ImageFolder(\"images/train/\", transform=train_aug)\n",
    "valid_dataset = datasets.ImageFolder(\"images/valid/\", transform=valid_aug)"
   ]
  },
  {
   "cell_type": "code",
   "execution_count": 5,
   "metadata": {},
   "outputs": [
    {
     "data": {
      "text/plain": [
       "['Apple___Apple_scab',\n",
       " 'Apple___Black_rot',\n",
       " 'Apple___Cedar_apple_rust',\n",
       " 'Apple___healthy',\n",
       " 'Cherry_(including_sour)___Powdery_mildew',\n",
       " 'Cherry_(including_sour)___healthy',\n",
       " 'Corn_(maize)___Cercospora_leaf_spot Gray_leaf_spot',\n",
       " 'Corn_(maize)___Common_rust_',\n",
       " 'Corn_(maize)___Northern_Leaf_Blight',\n",
       " 'Corn_(maize)___healthy',\n",
       " 'Grape___Black_rot',\n",
       " 'Grape___Esca_(Black_Measles)',\n",
       " 'Grape___Leaf_blight_(Isariopsis_Leaf_Spot)',\n",
       " 'Grape___healthy',\n",
       " 'Peach___Bacterial_spot',\n",
       " 'Peach___healthy',\n",
       " 'Pepper_bell___Bacterial_spot',\n",
       " 'Pepper_bell___healthy',\n",
       " 'Potato___Early_blight',\n",
       " 'Potato___Late_blight',\n",
       " 'Potato___healthy',\n",
       " 'Strawberry___Leaf_scorch',\n",
       " 'Strawberry___healthy',\n",
       " 'Tomato___Bacterial_spot',\n",
       " 'Tomato___Early_blight',\n",
       " 'Tomato___Late_blight',\n",
       " 'Tomato___Leaf_Mold',\n",
       " 'Tomato___Septoria_leaf_spot',\n",
       " 'Tomato___Spider_mites Two-spotted_spider_mite',\n",
       " 'Tomato___Target_Spot',\n",
       " 'Tomato___Tomato_Yellow_Leaf_Curl_Virus',\n",
       " 'Tomato___Tomato_mosaic_virus',\n",
       " 'Tomato___healthy']"
      ]
     },
     "execution_count": 5,
     "metadata": {},
     "output_type": "execute_result"
    }
   ],
   "source": [
    "train_dataset.classes"
   ]
  },
  {
   "cell_type": "code",
   "execution_count": 6,
   "metadata": {},
   "outputs": [
    {
     "data": {
      "text/plain": [
       "0"
      ]
     },
     "execution_count": 6,
     "metadata": {},
     "output_type": "execute_result"
    }
   ],
   "source": [
    " torch.cuda.current_device()"
   ]
  },
  {
   "cell_type": "code",
   "execution_count": 7,
   "metadata": {},
   "outputs": [
    {
     "data": {
      "text/plain": [
       "'GeForce RTX 3070'"
      ]
     },
     "execution_count": 7,
     "metadata": {},
     "output_type": "execute_result"
    }
   ],
   "source": [
    "torch.cuda.get_device_name(0)"
   ]
  },
  {
   "cell_type": "code",
   "execution_count": 18,
   "metadata": {},
   "outputs": [
    {
     "name": "stdout",
     "output_type": "stream",
     "text": [
      "Loaded pretrained weights for efficientnet-b3\n"
     ]
    }
   ],
   "source": [
    "model = LeafModel(num_classes=len(train_dataset.classes))"
   ]
  },
  {
   "cell_type": "code",
   "execution_count": 10,
   "metadata": {},
   "outputs": [],
   "source": [
    "es = EarlyStopping(\n",
    "        monitor=\"valid_loss\",\n",
    "        model_path=os.path.join(MODEL_PATH, MODEL_NAME + \"_early.bin\"),\n",
    "        patience=3,\n",
    "        mode=\"min\")"
   ]
  },
  {
   "cell_type": "code",
   "execution_count": 11,
   "metadata": {},
   "outputs": [
    {
     "name": "stderr",
     "output_type": "stream",
     "text": [
      "100%|█████████████████████████████████████| 1905/1905 [07:51<00:00,  4.04it/s, accuracy=0.882, loss=0.416, stage=Train]\n",
      "100%|███████████████████████████████████████| 476/476 [00:35<00:00, 13.45it/s, accuracy=0.98, loss=0.0649, stage=Valid]\n"
     ]
    },
    {
     "name": "stdout",
     "output_type": "stream",
     "text": [
      "Validation score improved (inf --> 0.06492789004647528). Saving model!\n"
     ]
    },
    {
     "name": "stderr",
     "output_type": "stream",
     "text": [
      "100%|█████████████████████████████████████| 1905/1905 [07:44<00:00,  4.10it/s, accuracy=0.97, loss=0.0971, stage=Train]\n",
      "100%|██████████████████████████████████████| 476/476 [00:36<00:00, 12.89it/s, accuracy=0.987, loss=0.0428, stage=Valid]\n"
     ]
    },
    {
     "name": "stdout",
     "output_type": "stream",
     "text": [
      "Validation score improved (0.06492789004647528 --> 0.04278222206799519). Saving model!\n"
     ]
    },
    {
     "name": "stderr",
     "output_type": "stream",
     "text": [
      "100%|████████████████████████████████████| 1905/1905 [07:49<00:00,  4.06it/s, accuracy=0.975, loss=0.0776, stage=Train]\n",
      "100%|███████████████████████████████████████| 476/476 [00:36<00:00, 13.03it/s, accuracy=0.99, loss=0.0333, stage=Valid]\n"
     ]
    },
    {
     "name": "stdout",
     "output_type": "stream",
     "text": [
      "Validation score improved (0.04278222206799519 --> 0.03327983659180174). Saving model!\n"
     ]
    },
    {
     "name": "stderr",
     "output_type": "stream",
     "text": [
      "100%|████████████████████████████████████| 1905/1905 [07:49<00:00,  4.06it/s, accuracy=0.984, loss=0.0518, stage=Train]\n",
      "100%|████████████████████████████████████████| 476/476 [00:35<00:00, 13.22it/s, accuracy=0.99, loss=0.031, stage=Valid]\n"
     ]
    },
    {
     "name": "stdout",
     "output_type": "stream",
     "text": [
      "Validation score improved (0.03327983659180174 --> 0.031012152878440967). Saving model!\n"
     ]
    },
    {
     "name": "stderr",
     "output_type": "stream",
     "text": [
      "100%|████████████████████████████████████| 1905/1905 [07:46<00:00,  4.09it/s, accuracy=0.986, loss=0.0465, stage=Train]\n",
      "100%|██████████████████████████████████████| 476/476 [00:36<00:00, 13.21it/s, accuracy=0.993, loss=0.0238, stage=Valid]\n"
     ]
    },
    {
     "name": "stdout",
     "output_type": "stream",
     "text": [
      "Validation score improved (0.031012152878440967 --> 0.023779844050050424). Saving model!\n"
     ]
    },
    {
     "name": "stderr",
     "output_type": "stream",
     "text": [
      "100%|████████████████████████████████████| 1905/1905 [07:45<00:00,  4.09it/s, accuracy=0.985, loss=0.0481, stage=Train]\n",
      "100%|███████████████████████████████████████| 476/476 [00:36<00:00, 13.20it/s, accuracy=0.992, loss=0.034, stage=Valid]\n",
      "  0%|                                                                                         | 0/1905 [00:00<?, ?it/s]"
     ]
    },
    {
     "name": "stdout",
     "output_type": "stream",
     "text": [
      "EarlyStopping counter: 1 out of 3\n"
     ]
    },
    {
     "name": "stderr",
     "output_type": "stream",
     "text": [
      "100%|█████████████████████████████████████| 1905/1905 [07:45<00:00,  4.09it/s, accuracy=0.986, loss=0.044, stage=Train]\n",
      "100%|██████████████████████████████████████| 476/476 [00:36<00:00, 13.22it/s, accuracy=0.995, loss=0.0164, stage=Valid]\n"
     ]
    },
    {
     "name": "stdout",
     "output_type": "stream",
     "text": [
      "Validation score improved (0.023779844050050424 --> 0.01642550785172727). Saving model!\n"
     ]
    },
    {
     "name": "stderr",
     "output_type": "stream",
     "text": [
      "100%|█████████████████████████████████████| 1905/1905 [07:46<00:00,  4.09it/s, accuracy=0.99, loss=0.0317, stage=Train]\n",
      "100%|███████████████████████████████████████| 476/476 [00:36<00:00, 13.13it/s, accuracy=0.99, loss=0.0409, stage=Valid]\n",
      "  0%|                                                                                         | 0/1905 [00:00<?, ?it/s]"
     ]
    },
    {
     "name": "stdout",
     "output_type": "stream",
     "text": [
      "EarlyStopping counter: 1 out of 3\n"
     ]
    },
    {
     "name": "stderr",
     "output_type": "stream",
     "text": [
      "100%|████████████████████████████████████| 1905/1905 [07:46<00:00,  4.09it/s, accuracy=0.988, loss=0.0402, stage=Train]\n",
      "100%|███████████████████████████████████████| 476/476 [00:36<00:00, 13.20it/s, accuracy=0.996, loss=0.014, stage=Valid]\n"
     ]
    },
    {
     "name": "stdout",
     "output_type": "stream",
     "text": [
      "Validation score improved (0.01642550785172727 --> 0.014034570244218076). Saving model!\n"
     ]
    },
    {
     "name": "stderr",
     "output_type": "stream",
     "text": [
      "100%|█████████████████████████████████████| 1905/1905 [07:53<00:00,  4.02it/s, accuracy=0.989, loss=0.037, stage=Train]\n",
      "100%|██████████████████████████████████████| 476/476 [00:36<00:00, 13.18it/s, accuracy=0.995, loss=0.0141, stage=Valid]\n",
      "  0%|                                                                                         | 0/1905 [00:00<?, ?it/s]"
     ]
    },
    {
     "name": "stdout",
     "output_type": "stream",
     "text": [
      "EarlyStopping counter: 1 out of 3\n"
     ]
    },
    {
     "name": "stderr",
     "output_type": "stream",
     "text": [
      "100%|████████████████████████████████████| 1905/1905 [07:52<00:00,  4.03it/s, accuracy=0.988, loss=0.0365, stage=Train]\n",
      "100%|██████████████████████████████████████| 476/476 [00:35<00:00, 13.26it/s, accuracy=0.996, loss=0.0112, stage=Valid]\n"
     ]
    },
    {
     "name": "stdout",
     "output_type": "stream",
     "text": [
      "Validation score improved (0.014034570244218076 --> 0.01122772588627208). Saving model!\n"
     ]
    },
    {
     "name": "stderr",
     "output_type": "stream",
     "text": [
      "100%|█████████████████████████████████████| 1905/1905 [07:48<00:00,  4.07it/s, accuracy=0.99, loss=0.0312, stage=Train]\n",
      "100%|██████████████████████████████████████| 476/476 [00:35<00:00, 13.26it/s, accuracy=0.996, loss=0.0139, stage=Valid]\n",
      "  0%|                                                                                         | 0/1905 [00:00<?, ?it/s]"
     ]
    },
    {
     "name": "stdout",
     "output_type": "stream",
     "text": [
      "EarlyStopping counter: 1 out of 3\n"
     ]
    },
    {
     "name": "stderr",
     "output_type": "stream",
     "text": [
      "100%|██████████████████████████████████████| 1905/1905 [07:49<00:00,  4.06it/s, accuracy=0.99, loss=0.033, stage=Train]\n",
      "100%|██████████████████████████████████████| 476/476 [00:35<00:00, 13.26it/s, accuracy=0.997, loss=0.0105, stage=Valid]\n",
      "  0%|                                                                                         | 0/1905 [00:00<?, ?it/s]"
     ]
    },
    {
     "name": "stdout",
     "output_type": "stream",
     "text": [
      "EarlyStopping counter: 2 out of 3\n"
     ]
    },
    {
     "name": "stderr",
     "output_type": "stream",
     "text": [
      "100%|████████████████████████████████████| 1905/1905 [07:49<00:00,  4.06it/s, accuracy=0.994, loss=0.0196, stage=Train]\n",
      "100%|█████████████████████████████████████| 476/476 [00:35<00:00, 13.23it/s, accuracy=0.998, loss=0.00645, stage=Valid]\n"
     ]
    },
    {
     "name": "stdout",
     "output_type": "stream",
     "text": [
      "Validation score improved (0.01122772588627208 --> 0.0064530765620775). Saving model!\n"
     ]
    },
    {
     "name": "stderr",
     "output_type": "stream",
     "text": [
      "100%|████████████████████████████████████| 1905/1905 [07:51<00:00,  4.04it/s, accuracy=0.993, loss=0.0233, stage=Train]\n",
      "100%|█████████████████████████████████████| 476/476 [00:36<00:00, 13.18it/s, accuracy=0.998, loss=0.00822, stage=Valid]\n",
      "  0%|                                                                                         | 0/1905 [00:00<?, ?it/s]"
     ]
    },
    {
     "name": "stdout",
     "output_type": "stream",
     "text": [
      "EarlyStopping counter: 1 out of 3\n"
     ]
    },
    {
     "name": "stderr",
     "output_type": "stream",
     "text": [
      "100%|████████████████████████████████████| 1905/1905 [07:48<00:00,  4.06it/s, accuracy=0.994, loss=0.0206, stage=Train]\n",
      "100%|█████████████████████████████████████| 476/476 [00:36<00:00, 13.21it/s, accuracy=0.998, loss=0.00608, stage=Valid]\n",
      "  0%|                                                                                         | 0/1905 [00:00<?, ?it/s]"
     ]
    },
    {
     "name": "stdout",
     "output_type": "stream",
     "text": [
      "EarlyStopping counter: 2 out of 3\n"
     ]
    },
    {
     "name": "stderr",
     "output_type": "stream",
     "text": [
      "100%|██████████████████████████████████████| 1905/1905 [07:49<00:00,  4.06it/s, accuracy=0.99, loss=0.031, stage=Train]\n",
      "100%|█████████████████████████████████████| 476/476 [00:36<00:00, 13.21it/s, accuracy=0.998, loss=0.00798, stage=Valid]"
     ]
    },
    {
     "name": "stdout",
     "output_type": "stream",
     "text": [
      "EarlyStopping counter: 3 out of 3\n"
     ]
    },
    {
     "name": "stderr",
     "output_type": "stream",
     "text": [
      "\n"
     ]
    }
   ],
   "source": [
    "model.fit(\n",
    "        train_dataset,\n",
    "        valid_dataset=valid_dataset,\n",
    "        train_bs=TRAIN_BATCH_SIZE,\n",
    "        valid_bs=VALID_BATCH_SIZE,\n",
    "        device=\"cuda\",\n",
    "        epochs=EPOCHS,\n",
    "        fp16=True,\n",
    "        callbacks=[es])"
   ]
  },
  {
   "cell_type": "code",
   "execution_count": null,
   "metadata": {},
   "outputs": [],
   "source": []
  },
  {
   "cell_type": "code",
   "execution_count": 10,
   "metadata": {},
   "outputs": [],
   "source": [
    "model.save_model(os.path.join(MODEL_PATH, MODEL_NAME + \"Final_onlyModel.pth\"))"
   ]
  },
  {
   "cell_type": "code",
   "execution_count": null,
   "metadata": {},
   "outputs": [],
   "source": []
  },
  {
   "cell_type": "markdown",
   "metadata": {},
   "source": [
    "### Performace Matrics for Validation Dataset"
   ]
  },
  {
   "cell_type": "code",
   "execution_count": 3,
   "metadata": {},
   "outputs": [
    {
     "name": "stdout",
     "output_type": "stream",
     "text": [
      "Loaded pretrained weights for efficientnet-b3\n"
     ]
    }
   ],
   "source": [
    "model = LeafModel(num_classes=33)"
   ]
  },
  {
   "cell_type": "code",
   "execution_count": 4,
   "metadata": {},
   "outputs": [],
   "source": [
    "model.load('models/EfficientNet_model_Changed_Final_onlyModel.pth')"
   ]
  },
  {
   "cell_type": "code",
   "execution_count": 5,
   "metadata": {},
   "outputs": [],
   "source": [
    "valid_aug = transforms.Compose([transforms.Resize((IMAGE_SIZE,IMAGE_SIZE)),\n",
    "                                transforms.ToTensor(),\n",
    "                                transforms.Normalize([0.485, 0.456, 0.406], [0.229, 0.224, 0.225])\n",
    "                                ])\n",
    "valid_dataset = datasets.ImageFolder(\"images/valid/\", transform=valid_aug)"
   ]
  },
  {
   "cell_type": "code",
   "execution_count": 32,
   "metadata": {},
   "outputs": [],
   "source": [
    "from sklearn.metrics import classification_report, confusion_matrix, accuracy_score, recall_score, precision_score"
   ]
  },
  {
   "cell_type": "code",
   "execution_count": 7,
   "metadata": {},
   "outputs": [
    {
     "data": {
      "text/plain": [
       "Dataset ImageFolder\n",
       "    Number of datapoints: 15231\n",
       "    Root location: images/valid/\n",
       "    StandardTransform\n",
       "Transform: Compose(\n",
       "               Resize(size=(256, 256), interpolation=bilinear)\n",
       "               ToTensor()\n",
       "               Normalize(mean=[0.485, 0.456, 0.406], std=[0.229, 0.224, 0.225])\n",
       "           )"
      ]
     },
     "execution_count": 7,
     "metadata": {},
     "output_type": "execute_result"
    }
   ],
   "source": [
    "valid_dataset"
   ]
  },
  {
   "cell_type": "code",
   "execution_count": 9,
   "metadata": {},
   "outputs": [],
   "source": [
    "valid_dataloader = DataLoader(valid_dataset)"
   ]
  },
  {
   "cell_type": "code",
   "execution_count": 10,
   "metadata": {},
   "outputs": [],
   "source": [
    "y_true = [int(label) for image, label in valid_dataloader]"
   ]
  },
  {
   "cell_type": "code",
   "execution_count": 12,
   "metadata": {},
   "outputs": [
    {
     "data": {
      "text/plain": [
       "(15231,)"
      ]
     },
     "execution_count": 12,
     "metadata": {},
     "output_type": "execute_result"
    }
   ],
   "source": [
    "y_True.shape"
   ]
  },
  {
   "cell_type": "code",
   "execution_count": 11,
   "metadata": {},
   "outputs": [],
   "source": [
    "y_True = np.array(y_true)"
   ]
  },
  {
   "cell_type": "code",
   "execution_count": 8,
   "metadata": {},
   "outputs": [
    {
     "name": "stderr",
     "output_type": "stream",
     "text": [
      "100%|████████████████████████████████████████████████████████████████████| 952/952 [01:10<00:00, 13.55it/s, stage=Test]\n"
     ]
    }
   ],
   "source": [
    "y_pred, args = model.predict(valid_dataset, 'cuda')"
   ]
  },
  {
   "cell_type": "code",
   "execution_count": 18,
   "metadata": {},
   "outputs": [
    {
     "name": "stdout",
     "output_type": "stream",
     "text": [
      "              precision    recall  f1-score   support\n",
      "\n",
      "           0       1.00      1.00      1.00       504\n",
      "           1       1.00      1.00      1.00       497\n",
      "           2       1.00      0.99      1.00       440\n",
      "           3       1.00      1.00      1.00       502\n",
      "           4       1.00      1.00      1.00       421\n",
      "           5       1.00      1.00      1.00       456\n",
      "           6       1.00      1.00      1.00       410\n",
      "           7       0.99      1.00      1.00       477\n",
      "           8       0.99      0.99      0.99       477\n",
      "           9       1.00      1.00      1.00       465\n",
      "          10       1.00      1.00      1.00       472\n",
      "          11       1.00      1.00      1.00       480\n",
      "          12       1.00      1.00      1.00       430\n",
      "          13       1.00      1.00      1.00       423\n",
      "          14       1.00      1.00      1.00       459\n",
      "          15       1.00      1.00      1.00       432\n",
      "          16       1.00      1.00      1.00       478\n",
      "          17       1.00      1.00      1.00       497\n",
      "          18       1.00      1.00      1.00       485\n",
      "          19       1.00      1.00      1.00       485\n",
      "          20       1.00      1.00      1.00       456\n",
      "          21       1.00      1.00      1.00       444\n",
      "          22       1.00      1.00      1.00       456\n",
      "          23       1.00      1.00      1.00       425\n",
      "          24       1.00      1.00      1.00       480\n",
      "          25       1.00      1.00      1.00       463\n",
      "          26       1.00      1.00      1.00       470\n",
      "          27       1.00      1.00      1.00       436\n",
      "          28       1.00      1.00      1.00       435\n",
      "          29       1.00      0.99      0.99       457\n",
      "          30       1.00      1.00      1.00       490\n",
      "          31       1.00      1.00      1.00       448\n",
      "          32       1.00      1.00      1.00       481\n",
      "\n",
      "    accuracy                           1.00     15231\n",
      "   macro avg       1.00      1.00      1.00     15231\n",
      "weighted avg       1.00      1.00      1.00     15231\n",
      "\n"
     ]
    }
   ],
   "source": [
    "print(classification_report(y_True, args))"
   ]
  },
  {
   "cell_type": "code",
   "execution_count": 19,
   "metadata": {},
   "outputs": [],
   "source": [
    "conMatrix = confusion_matrix(y_True, args)"
   ]
  },
  {
   "cell_type": "code",
   "execution_count": 48,
   "metadata": {},
   "outputs": [],
   "source": [
    "classes = ['Apple -- Apple Scab',\n",
    "    'Apple -- Black Rot',\n",
    "    'Apple -- Cedar Apple Rust',\n",
    "    'Apple -- Healthy',\n",
    "    'Cherry -- Powdery Mildew',\n",
    "    'Cherry --  Healthy',\n",
    "    'Corn -- Gray Leaf Spot (Cercospora Leaf Spot)',\n",
    "    'Corn -- Common Rust',\n",
    "    'Corn -- Northern Leaf Blight',\n",
    "    'Corn -- Healthy',\n",
    "    'Grape -- Black Rot',\n",
    "    'Grape -- Esca (Black Measles)',\n",
    "    'Grape -- Leaf Blight (Isariopsis Leaf Spot)',\n",
    "    'Grape -- Healthy',\n",
    "    'Peach -- Bacterial_spot',\n",
    "    'Peach -- Healthy',\n",
    "    'Pepper Bell -- Bacterial Spot',\n",
    "    'Pepper Bell -- Healthy',\n",
    "    'Potato -- Early Blight',\n",
    "    'Potato -- Late Blight',\n",
    "    'Potato -- Healthy',\n",
    "    'Strawberry -- Leaf Scorch',\n",
    "    'Strawberry -- Healthy',\n",
    "    'Tomato -- Bacterial Spot',\n",
    "    'Tomato -- Early Blight',\n",
    "    'Tomato -- Late Blight',\n",
    "    'Tomato -- Leaf Mold',\n",
    "    'Tomato -- Septoria Leaf Spot',\n",
    "    'Tomato -- Two-spotted Spider Mites',\n",
    "    'Tomato -- Target Spot',\n",
    "    'Tomato -- Yellow Leaf Curl Virus',\n",
    "    'Tomato -- Mosaic Virus',\n",
    "    'Tomato -- Healthy']"
   ]
  },
  {
   "cell_type": "code",
   "execution_count": 22,
   "metadata": {},
   "outputs": [],
   "source": [
    "import seaborn as sns\n",
    "import matplotlib.pyplot as plt"
   ]
  },
  {
   "cell_type": "code",
   "execution_count": 50,
   "metadata": {},
   "outputs": [
    {
     "data": {
      "image/png": "[encoded data removed]",
      "text/plain": [
       "<Figure size 1440x720 with 2 Axes>"
      ]
     },
     "metadata": {
      "needs_background": "light"
     },
     "output_type": "display_data"
    }
   ],
   "source": [
    "plt.figure(figsize=(20,10))\n",
    "sns.heatmap(conMatrix, annot=True, fmt=\".3g\", cmap='Blues', xticklabels=classes, yticklabels=classes)\n",
    "plt.title('Confusion Matrix')\n",
    "plt.savefig('HeatMap.png', bbox_inches = 'tight');"
   ]
  },
  {
   "cell_type": "code",
   "execution_count": 34,
   "metadata": {},
   "outputs": [
    {
     "data": {
      "text/plain": [
       "0.9987525441533714"
      ]
     },
     "execution_count": 34,
     "metadata": {},
     "output_type": "execute_result"
    }
   ],
   "source": [
    "accuracy_score(y_True, args)"
   ]
  },
  {
   "cell_type": "code",
   "execution_count": 157,
   "metadata": {},
   "outputs": [
    {
     "data": {
      "text/plain": [
       "0.9987152558753591"
      ]
     },
     "execution_count": 157,
     "metadata": {},
     "output_type": "execute_result"
    }
   ],
   "source": [
    "recall_score(y_True, args, average='macro')"
   ]
  },
  {
   "cell_type": "code",
   "execution_count": 158,
   "metadata": {},
   "outputs": [
    {
     "data": {
      "text/plain": [
       "0.9987467273594998"
      ]
     },
     "execution_count": 158,
     "metadata": {},
     "output_type": "execute_result"
    }
   ],
   "source": [
    "precision_score(y_True, args, average='macro')"
   ]
  }
 ],
 "metadata": {
  "kernelspec": {
   "display_name": "Python 3",
   "language": "python",
   "name": "python3"
  },
  "language_info": {
   "codemirror_mode": {
    "name": "ipython",
    "version": 3
   },
   "file_extension": ".py",
   "mimetype": "text/x-python",
   "name": "python",
   "nbconvert_exporter": "python",
   "pygments_lexer": "ipython3",
   "version": "3.8.8"
  },
  "metadata": {
   "interpreter": {
    "hash": "eccf5d23417d4d2a75e49c283a8ebdc8751103d51f1edc03d6175748b97b4b8c"
   }
  }
 },
 "nbformat": 4,
 "nbformat_minor": 4
}
